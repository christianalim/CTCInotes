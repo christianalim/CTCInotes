{
 "cells": [
  {
   "cell_type": "markdown",
   "metadata": {},
   "source": [
    "# Bit Manipulation\n",
    "\n",
    "Bit manipulation can be useful for solving some problems with better space complexity/time complexity, and bitwise operations are usually faster than other methods.\n",
    "\n",
    "Operations with bits are used in Data compression or Exlusive-Or Encryption (an algorithm to encrypt data) for example. In order to encode, decode, or compress files we have to extract the data at bit level. Bitwise operations are faster and closer to the system.\n",
    "\n",
    "We know that 1 byte is 8 bits, and any integer or character can be represented using bits.\n",
    "For characters, we use ASCII representation, which are in the form of integers which can again be repesented using bits.\n",
    "\n",
    "Note: Numbers in parentheses() can be considered base 2 numbers (binary).\n",
    "\n",
    "## Bitwise Operators:\n",
    "There are different bitwise operators used in bit manipulation. They are fast and can be used in optimizing time complexity.\n",
    "\n",
    "### NOT (~):\n",
    "Bitwise NOT is an unary operator that flips the bits of the number (i.e. if the ith bit is 0, it will change it to 1). It is the one's complement of a number. For example, N = 5 = (101) in base 2. ~N = ~5 = ~(101) => (010) => 2.\n",
    "\n",
    "### AND (&):\n",
    "Bitwise AND is a binary operator that operates on two equal-length bit patterns. If both bits in the compared position of the bit patterns are 1, the bit in the resulting bit pattern is 1, otherwise 0.\n",
    "   #### Example:\n",
    "   A = 5 = (101), B = 3 = (011), A&B = (101)&(011) = (001) = 1\n",
    "   \n",
    "### OR ( | ):\n",
    "Bitwise OR operator opraters on two equal-length bit patterns. If both bits in the compared position of the bit patterns are 0, the bit in the resulting pattern is 0, otherewise 1.\n",
    "   #### Example:\n",
    "   A = 5 = (101), B = 3 = (011)\n",
    "   A | B = (111) = 7\n",
    "\n",
    "### XOR ( ^ ):\n",
    "Bitwise XOR also takes two equal-length bit patterns. If both bits in the compared position of the bit patterns are 0 or 1, the bit in the resulting bit pattern is 0, otherwise 1.\n",
    "   #### Example:\n",
    "   A = 5 = (101), B = 3 = (011)\n",
    "   A ^ B = (101) ^ (011) = (110) = 6\n",
    "   \n",
    "### Left Shift (<<):\n",
    "The Left Shift operator is a binary operator that moves the bits in the bit pattern to the left and appends 0 aar the end. **Left shift is equivalent to multiplying the bit pattern with 2^k (if we are shifting k bits).**\n",
    "   #### Example:\n",
    "   1 << 1 = (1) -> (10) = 2 = 2^1\n",
    "   1 << 2 = (1) -> (100) = 4 = 2^2\n",
    "   1 << 3 = (1) -> (1000) = 8 = 2^3\n",
    "   1 << 4 = (1) -> (10000) = 16 = 2^4\n",
    "   1 << n = 2^n\n",
    "\n",
    "### Right Shift (>>):\n",
    "The Right Shift operator is a binary operator which shifts some number of bits in the given pattern to the right and appends 1 at the end. **Right shift is equivalent to dividing the bit pattern with 2k**\n",
    "   #### Example:\n",
    "   4 >> 1 = (0100) >> 1 = (0010) = 2\n",
    "   6 >> 1 = (0110) >> 1 = (0011) = 3\n",
    "   5 >> 1 = (0101) >> 1 = (0010) = 2\n",
    "   16 >> 4 = (1000) >> 4 = (0000) = 1\n",
    "   \n",
    "Bitwise operators are good for saving space and sometimes to cleverly remove dependencies.\n",
    "\n",
    "## Some example algorithms based on bitwise operations:\n",
    "### 1. How to check if a given number is a power of 2?\n",
    "If you want to find if N is a power of 2, theres a couple ways you could find out. The simple solution is to repeatedly divide N by 2 if N is even. If we end up with a 1 then N is a power of 2, otherwise it's not. There is also a special case, if N=0 then it's not a power of 2. Here's an example implementation of naive solution:"
   ]
  },
  {
   "cell_type": "code",
   "execution_count": 3,
   "metadata": {},
   "outputs": [
    {
     "data": {
      "text/plain": [
       "true"
      ]
     },
     "execution_count": 3,
     "metadata": {},
     "output_type": "execute_result"
    }
   ],
   "source": [
    "public Boolean naiveIsPowerOfTwo(int x){\n",
    "    if(x == 0)\n",
    "    {\n",
    "        return false;\n",
    "    } \n",
    "    else \n",
    "    {\n",
    "        while(x % 2 == 0) x /= 2;\n",
    "        return (x==1);\n",
    "    }\n",
    "}\n",
    "\n",
    "naiveIsPowerOfTwo(128);"
   ]
  },
  {
   "cell_type": "markdown",
   "metadata": {},
   "source": [
    "The time complexity of the above code is O(logN). \n",
    "The same problem can be solved with bit manipulation! \n",
    "\n",
    "Consider a number x that we need to check for being a power of 2. Now, think about the binary represnetation of (x-1).\n",
    "(x-1) will have all the bits same as x, except for the rightmore 1 in x and all the bits to the right of the rightmost 1.\n",
    "\n",
    "Let's break this down with an example.\n",
    "x = 4 = (100)\n",
    "x - 1 = 3 = (011)\n",
    "\n",
    "x = 6 = (110)\n",
    "x - 1 = 5 = (101)\n",
    "\n",
    "It might not seem obvious with these examples, but **binary representation of (x-1) can be obtained by simply flipping all the bits to the right of the RIGHTMOST 1 in x and also including the rightmost 1.**\n",
    "\n",
    "Consider x & (x-1), (x & (x-1)) will have **all the bits equal to the x except for the rightmost 1 in x.**\n",
    "\n",
    "x = 4 = (100)\n",
    "x-1 = 3 = (011)\n",
    "x & (x-1) = (000)\n",
    "\n",
    "See? x =(100) and we got (000), so all the same except the rightmost 1 in x).\n",
    "\n",
    "Let's do another:\n",
    "x = 6 = (110)\n",
    "x-1 = 5 = (101)\n",
    "x & (x-1) = (100)\n",
    "\n",
    "Properties for numbers which are powers of 2 is that **they have one and only one bit set in their binary representation**. If the number is neither zero nor a power of two, it will have 1 in more than one place. So if x is a power of 2 **then x&(x-1) will be 0.**\n",
    "\n",
    "Implementation:\n"
   ]
  },
  {
   "cell_type": "code",
   "execution_count": 9,
   "metadata": {},
   "outputs": [
    {
     "data": {
      "text/plain": [
       "false"
      ]
     },
     "execution_count": 9,
     "metadata": {},
     "output_type": "execute_result"
    }
   ],
   "source": [
    "public Boolean powerOfTwo(int x){\n",
    "    //x will check if x == 0 and !(x & (x-1)) will check if x is a power of 2 or not\n",
    "    return (x != 0 && ((x & (x-1)) != 0));\n",
    "}\n",
    "\n",
    "powerOfTwo(2);"
   ]
  },
  {
   "cell_type": "code",
   "execution_count": null,
   "metadata": {},
   "outputs": [],
   "source": []
  }
 ],
 "metadata": {
  "kernelspec": {
   "display_name": "Java",
   "language": "java",
   "name": "java"
  },
  "language_info": {
   "codemirror_mode": "java",
   "file_extension": ".jshell",
   "mimetype": "text/x-java-source",
   "name": "Java",
   "pygments_lexer": "java",
   "version": "13.0.1+9"
  }
 },
 "nbformat": 4,
 "nbformat_minor": 2
}
