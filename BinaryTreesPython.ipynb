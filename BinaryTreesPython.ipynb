{
 "cells": [
  {
   "cell_type": "markdown",
   "metadata": {},
   "source": [
    "# Binary Trees Python\n",
    "\n",
    "## Implementation BST\n",
    "Remember for Binary Search Trees:\n",
    " *2 children per node max\n",
    " *Left child < right child\n",
    " *All descendent left children must also follow this rule."
   ]
  },
  {
   "cell_type": "code",
   "execution_count": 1,
   "metadata": {},
   "outputs": [
    {
     "name": "stdout",
     "output_type": "stream",
     "text": [
      "3\n",
      "6\n",
      "12\n",
      "14\n"
     ]
    }
   ],
   "source": [
    "class Node:\n",
    "    \n",
    "    def __init__(self, data):\n",
    "        self.data = data\n",
    "        self.left = None\n",
    "        self.right = None\n",
    "    \n",
    "    def insert(self, data):\n",
    "        if self.data:\n",
    "            if data < self.data:\n",
    "                if self.left is None:\n",
    "                    self.left = Node(data)\n",
    "                else:\n",
    "                    self.left.insert(data)\n",
    "            elif data > self.data:\n",
    "                if self.right is None:\n",
    "                    self.right = Node(data)\n",
    "                else:\n",
    "                    self.right.insert(data)\n",
    "        else:\n",
    "            self.data = data\n",
    "    \n",
    "    def printTree(self):\n",
    "        if self.left:\n",
    "            self.left.printTree()\n",
    "        print(self.data)\n",
    "        if self.right:\n",
    "            self.right.printTree()\n",
    "\n",
    "root = Node(12)\n",
    "root.insert(6)\n",
    "root.insert(14)\n",
    "root.insert(3)\n",
    "\n",
    "root.printTree()"
   ]
  },
  {
   "cell_type": "markdown",
   "metadata": {},
   "source": [
    "# Tree Traversal Algorithms\n",
    "Traversal is a process to visit all the nodes of a tree. Because all nodes are connected via edges, we always start from the root node. We cannot randomly access a node in a tree. \n",
    "\n",
    "There are three ways which we use to traverse a tree:\n",
    "1. In-order Traversal\n",
    "2. Pre-order Traversal\n",
    "3. Post-order Traversal"
   ]
  }
 ],
 "metadata": {
  "kernelspec": {
   "display_name": "Python 3",
   "language": "python",
   "name": "python3"
  },
  "language_info": {
   "codemirror_mode": {
    "name": "ipython",
    "version": 3
   },
   "file_extension": ".py",
   "mimetype": "text/x-python",
   "name": "python",
   "nbconvert_exporter": "python",
   "pygments_lexer": "ipython3",
   "version": "3.7.4"
  }
 },
 "nbformat": 4,
 "nbformat_minor": 2
}
