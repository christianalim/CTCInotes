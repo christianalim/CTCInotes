{
 "cells": [
  {
   "cell_type": "markdown",
   "metadata": {},
   "source": [
    "# Singly Linked List Python Implementation\n",
    "### What are singly linked lists?\n",
    "Linked lists are an ordered collection of objects. They differ from regular lists, because regular Python lists use a contiguous memory block to store references to their data, linked lists store references as part of their own elements.\n",
    "\n",
    "There are singly and doubly linked lists. Each element of a linked list is called a **node**, and every node has two different fields:\n",
    "    1. Data: contains the value to be stored in the node.\n",
    "    2. Next: contains a reference to the next node on the list."
   ]
  },
  {
   "cell_type": "code",
   "execution_count": 8,
   "metadata": {},
   "outputs": [
    {
     "name": "stdout",
     "output_type": "stream",
     "text": [
      "a -> b -> c -> f -> g -> h -> None\n"
     ]
    }
   ],
   "source": [
    "class Node:\n",
    "    def __init__(self, data):\n",
    "        self.data = data\n",
    "        self.next = None\n",
    "        \n",
    "    def __repr__(self):\n",
    "        return self.data\n",
    "    \n",
    "    def appendToTail(self, value):\n",
    "        end = Node(value)\n",
    "        n = self\n",
    "        while n.next is not None:\n",
    "            n = n.next\n",
    "        n.next = end\n",
    "        \n",
    "class LinkedList:\n",
    "    def __init__(self):\n",
    "        self.head = None\n",
    "        \n",
    "    def __repr__(self):\n",
    "        node = self.head\n",
    "        nodes = []\n",
    "        while node is not None:\n",
    "            nodes.append(node.data)\n",
    "            node = node.next\n",
    "        nodes.append(\"None\")\n",
    "        return \" -> \".join(nodes)\n",
    "    \n",
    "    def addToTail(self, node):\n",
    "        curr = self.head\n",
    "        while curr.next is not None:\n",
    "            curr = curr.next\n",
    "        curr.next = node\n",
    "    \n",
    "    def deleteNode(self, data):\n",
    "        curr = self.head\n",
    "        if curr and curr.data == key:\n",
    "            self.head = curr.next\n",
    "            curr = None\n",
    "            return\n",
    "        prev = None\n",
    "        while curr and curr.data!= key:\n",
    "            \n",
    "\n",
    "ll = LinkedList()\n",
    "a = Node('a')\n",
    "b = Node('b')\n",
    "c = Node('c')\n",
    "\n",
    "a.next = b\n",
    "b.next = c\n",
    "ll.head = a\n",
    "ll.addToTail(Node('f'))\n",
    "ll.addToTail(Node('g'))\n",
    "ll.addToTail(Node('h'))\n",
    "\n",
    "print(ll)"
   ]
  },
  {
   "cell_type": "markdown",
   "metadata": {},
   "source": [
    "### Deleting a node from a linked list\n",
    "Given a node n, we find the previous node prev and set prev.next equal to n.next. If the list is doubly linked, we must also update n.next to set n.next.prev equal to n.prev. The important things to remember are:\n",
    "    1. Check for the null pointer and\n",
    "    2. Update the head or tail pointer as necessary."
   ]
  }
 ],
 "metadata": {
  "kernelspec": {
   "display_name": "Python 3",
   "language": "python",
   "name": "python3"
  },
  "language_info": {
   "codemirror_mode": {
    "name": "ipython",
    "version": 3
   },
   "file_extension": ".py",
   "mimetype": "text/x-python",
   "name": "python",
   "nbconvert_exporter": "python",
   "pygments_lexer": "ipython3",
   "version": "3.7.4"
  }
 },
 "nbformat": 4,
 "nbformat_minor": 2
}
