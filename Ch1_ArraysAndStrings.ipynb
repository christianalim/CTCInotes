{
 "cells": [
  {
   "cell_type": "markdown",
   "metadata": {},
   "source": [
    "### Hash Tables\n",
    "A hash table is a data structure that maps keys to values for highly efficient lookup. There are a number of ways of implementing this. \n",
    "\n",
    "In this simple implementation, we use an array of linked lists and a hash code function. To inert a key (which might be a string or essentially any other data type) and value, we do the following:\n",
    "\n",
    "    1. Compute the key's hash code, which will usually be an int or long. Note that two different keys could have the        same hash code, as there may be an infinite number of keys and finite number of ints.\n",
    "    \n",
    "    2. Then map the hash code to an index in the array. This could be done with something like \n",
    "    hash(key) % array_length. Two different hash codes could map to the same index.\n",
    "    \n",
    "    3. At this index, there is a linked list of keys and values. Store the key and value in this index. We must use \n",
    "    a linked list because of collisions: You could have two different keys with the same hash code, or two different\n",
    "    hash codes that map to the same index. \n",
    "    \n",
    "In order to retrieve the value pair by its key, you repeat this process. Compute the hash code from the key, and then compute the index from the hash code. Then, search through the linked list for the value with this key. \n",
    "\n",
    "If the number of collisions is high, the worst case runtime is O(N), where N is the number of keys. \n",
    "But we generally assume a good implementation keeps collisions to a minimum, so the lookup time is O(1).\n",
    "\n",
    "Another optional implementation is using a **balanced binary search tree**. This gives us a lookup time of O(log N). The advantage of this is that we potentially use less space, since we no longer allocate a large array."
   ]
  },
  {
   "cell_type": "markdown",
   "metadata": {},
   "source": [
    "\n",
    "### ArrayList and Resizable Arrays\n",
    "An ArrayList (Java) is an array that resizes itself as needed while still providing O(1) access.\n",
    "\n",
    "### StringBuilder\n",
    "Imagine concatenating a list of strings, what would the running time be? For simplicity assume strings are all the same length x and there are n strings.\n"
   ]
  },
  {
   "cell_type": "code",
   "execution_count": 4,
   "metadata": {},
   "outputs": [],
   "source": [
    "String joinWords(String[] words){\n",
    "    String sentence = \"\";\n",
    "    for(String w : words){\n",
    "        sentence = sentence + w;\n",
    "    }\n",
    "    return sentence;\n",
    "}"
   ]
  },
  {
   "cell_type": "markdown",
   "metadata": {},
   "source": [
    "On each concatenation, a new copy of the string is created, and the two strings are copied over character by character.\n",
    "\n",
    "The first iteration we copy x characters, then we copy 2x, 3rd iteration requires 3x and so on. The total time complexity is O(x + 2x + 3x + ... + nx). This reduces to O(xn^2). Remember: 1 + 2 + ... + n == n(n+1)/2 or O(n^2).\n",
    "\n",
    "**StringBuilder** creates a resizable array of all the strings, copying them back to a string only when necessary.\n",
    "\n",
    "\n",
    "### Hash Table Collision Resolution\n",
    "\n",
    "#### Chaining with Linked Lists\n",
    "The most common approach, the hash table's array maps to a linked list of items. We just add items to this linked list, as long as the number of collisions is fairly small, this will be quite efficient.\n",
    "\n",
    "The worst case lookup is O)n_ where n is the number of elements in the hash table. \n",
    "\n",
    "#### Chaining with Binary Search Trees\n",
    "Rather than storing collisions in a linked list, we can store collisions in a binary search tree. This will bring the worst case runtime to O(log n). In practice we would rarely take this approach unless we expected an extremely nonuniform distribution.\n",
    "\n",
    "#### Open Addressing with Linear Probing\n",
    "In this approach when a collision occurs, we just move on ot the next index in the array until we find an open space.\n",
    "\n",
    "The drawback of this is that the number of entries in the hash tables is limited by the sizae of the array.\n",
    "\n",
    "There is another issue here: Consider a hash table with an underlying array size 100 where indexes 20-30 are prefilled. What are the odds of the next insertion going ot be 30?? Its 10% because an item mapped to any index between 20 and 30 will wind up at 30. This is also called clustering.\n",
    "\n",
    "# Interview Problems\n",
    "1.1 Is Unique: Implement an algorithm to determine if a string has all unique characters. What if you cannot use additional data structures?"
   ]
  },
  {
   "cell_type": "code",
   "execution_count": 17,
   "metadata": {},
   "outputs": [
    {
     "data": {
      "text/plain": [
       "false"
      ]
     },
     "execution_count": 17,
     "metadata": {},
     "output_type": "execute_result"
    }
   ],
   "source": [
    "import java.util.HashMap;\n",
    "\n",
    "public class Solution{\n",
    "    public boolean checkUnique(String str){\n",
    "        char[] splitArr = str.toCharArray();\n",
    "        HashMap<Character, Integer> counts = new HashMap<>();\n",
    "        for(Character s : splitArr){\n",
    "            if(counts.get(s) != null){\n",
    "                return false;\n",
    "            } else{\n",
    "                counts.put(s, 1);\n",
    "            }\n",
    "        }\n",
    "        return true;\n",
    "    }\n",
    "}\n",
    "\n",
    "Solution test = new Solution();\n",
    "test.checkUnique(\"hello\");"
   ]
  },
  {
   "cell_type": "markdown",
   "metadata": {},
   "source": [
    "What if you can't use additional data structures?\n",
    " -hint: Could a bit vector be helpful? \n",
    "     - wtf is a bit vector: "
   ]
  },
  {
   "cell_type": "code",
   "execution_count": 23,
   "metadata": {},
   "outputs": [
    {
     "data": {
      "text/plain": [
       "false"
      ]
     },
     "execution_count": 23,
     "metadata": {},
     "output_type": "execute_result"
    }
   ],
   "source": [
    "public class Solution{\n",
    "    public boolean checkUnique(String str){\n",
    "        int checker = 0; \n",
    "  \n",
    "        for (int i = 0; i < str.length(); i++) { \n",
    "            int bitAtIndex = str.charAt(i) - 'a'; \n",
    "  \n",
    "            // if that bit is already set in checker, \n",
    "            // return false \n",
    "            if ((checker & (1 << bitAtIndex)) > 0) \n",
    "                return false; \n",
    "  \n",
    "            // otherwise update and continue by \n",
    "            // setting that bit in the checker \n",
    "            checker = checker | (1 << bitAtIndex); \n",
    "        } \n",
    "  \n",
    "        // no duplicates encountered, return true \n",
    "        return true; \n",
    "    }\n",
    "}\n",
    "\n",
    "Solution test = new Solution();\n",
    "test.checkUnique(\"hlelo\");\n"
   ]
  },
  {
   "cell_type": "markdown",
   "metadata": {},
   "source": [
    "Set, Clear and Toggle a given bit of a number in C\n",
    "Given a number N, the task is to set, clear and toggle the K-th bit of this number N.\n",
    "\n",
    "Setting a bit means that if K-th bit is 0, then set it to 1 and if it is 1 then leave it unchanged.\n",
    "Clearing a bit means that if K-th bit is 1, then clear it to 0 and if it is 0 then leave it unchanged.\n",
    "Toggling a bit means that if K-th bit is 1, then change it to 0 and if it is 0 then change it to 1."
   ]
  },
  {
   "cell_type": "markdown",
   "metadata": {},
   "source": [
    "\n",
    "### 1.2: Check Permutation\n",
    "Given two strings, write a method to decide if one is permutation of the other."
   ]
  },
  {
   "cell_type": "code",
   "execution_count": 45,
   "metadata": {},
   "outputs": [
    {
     "data": {
      "text/plain": [
       "true"
      ]
     },
     "execution_count": 45,
     "metadata": {},
     "output_type": "execute_result"
    }
   ],
   "source": [
    "public class TwoStrings{\n",
    "    public Boolean checkPerm(String s, String t){\n",
    "        if(s.length() != t.length()){\n",
    "            return false;\n",
    "        }\n",
    "        return sort(s).equals(sort(t));\n",
    "    }\n",
    "    \n",
    "    public String sort(String s){\n",
    "        char[] content = s.toCharArray();\n",
    "        java.util.Arrays.sort(content);\n",
    "        return new String(content);\n",
    "    }\n",
    "}\n",
    "\n",
    "TwoStrings test = new TwoStrings();\n",
    "test.checkPerm(\"hello\", \"olleh\");"
   ]
  },
  {
   "cell_type": "markdown",
   "metadata": {},
   "source": [
    "If two strings are different lengths, they are not permutations of each other, so we check that first. Then, if we sort the strings, which is a O(log n) procedure, we can then compare them to each other. The comparison is O(n), so this solution has O(nlogn) runtime, and O(n) space.\n",
    "\n",
    "### Solution 2:\n",
    " We can also use the definition of a permutation - two words with the same character counts - to implement this algorithm. We create an array that operates like a hash table, mapping each charcter to its frequency. We increment htrough the first string, then decrement through the second string. If the strings are permutations **then the array will be all zeroes at the end**.\n",
    " \n",
    " We can end early if a value ever turns negative. If we don't terminate early, then the array must be all zeroes. The array cannot have any positive values if it doesn't have any negative values."
   ]
  },
  {
   "cell_type": "code",
   "execution_count": 48,
   "metadata": {},
   "outputs": [
    {
     "name": "stdout",
     "output_type": "stream",
     "text": [
      "true\n",
      "false\n",
      "false\n",
      "false\n"
     ]
    }
   ],
   "source": [
    "public class TwoStringsOptimal{\n",
    "    public Boolean checkPermutation(String s, String t){\n",
    "        if(s.length() != t.length()) return false; // Permutations must be same length\n",
    "        \n",
    "        int[] letters = new int[128]; //Assumption: ASCII\n",
    "        for(int i=0; i < s.length(); i++){\n",
    "            letters[s.charAt(i)]++;\n",
    "        }\n",
    "        \n",
    "        for(int i =0; i < t.length(); i++){\n",
    "            letters[t.charAt(i)]--;\n",
    "            if(letters[t.charAt(i)] < 0){\n",
    "                return false;\n",
    "            }\n",
    "        }\n",
    "        return true; // letters has no neg values, and therefore no pos values either\n",
    "    }\n",
    "\n",
    "}\n",
    "\n",
    "TwoStringsOptimal tester = new TwoStringsOptimal();\n",
    "System.out.println(tester.checkPermutation(\"hola\", \"aloh\"));\n",
    "System.out.println(tester.checkPermutation(\"hola\", \"aoh\"));\n",
    "System.out.println(tester.checkPermutation(\"hola\", \"oh\"));\n",
    "System.out.println(tester.checkPermutation(\"hola\", \"aldsoh\"));\n"
   ]
  },
  {
   "cell_type": "markdown",
   "metadata": {},
   "source": [
    "### 1.3 URLify: \n",
    "Write a method to replace all spaces in a string with '%20'. You may assume that the string has sufficient space at the end to hold the additional characters, and you are given the 'true' length of the string. (Note: if implementing in Java, please us a character array so that you can perform this operation in place.)\n",
    "Example:\n",
    "Input: 'Mr John Smith   \", 13\n",
    "Output: 'Mr%20John%20Smith'\n",
    "\n",
    "Initial Thoughts:\n",
    "I notice there's extra white space at the end of the string, presumably to make the string as long as needed to fit the %20's in. So perhaps since I know 13 is the 'true' length of the string(Mr John Smith) and subtracting that from the actual length of the string, maybe that will lead somewhere.\n",
    "So if we have our example as a charArray: ['M','r', ' ', 'J', 'o','h','n',' ','S','m','i','t','h',' ',' ',' ',' ']"
   ]
  },
  {
   "cell_type": "code",
   "execution_count": null,
   "metadata": {},
   "outputs": [],
   "source": [
    "public class URLify{\n",
    "    public String replace(String a){\n",
    "        char[] charArr = a.toCharArray();\n",
    "        \n",
    "    }\n",
    "}"
   ]
  }
 ],
 "metadata": {
  "kernelspec": {
   "display_name": "Java",
   "language": "java",
   "name": "java"
  },
  "language_info": {
   "codemirror_mode": "java",
   "file_extension": ".jshell",
   "mimetype": "text/x-java-source",
   "name": "Java",
   "pygments_lexer": "java",
   "version": "13.0.1+9"
  }
 },
 "nbformat": 4,
 "nbformat_minor": 2
}
