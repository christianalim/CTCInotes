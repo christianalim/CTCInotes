{
 "cells": [
  {
   "cell_type": "code",
   "execution_count": null,
   "metadata": {},
   "outputs": [],
   "source": []
  },
  {
   "cell_type": "code",
   "execution_count": 7,
   "metadata": {},
   "outputs": [
    {
     "name": "stdout",
     "output_type": "stream",
     "text": [
      "4\n"
     ]
    }
   ],
   "source": [
    "from collections import deque\n",
    "\n",
    "class Solution:\n",
    "    def orangesRotting(self, grid):\n",
    "        queue = deque()\n",
    "        \n",
    "        #Step 1: Build the initial set of rotten oranges\n",
    "        fresh_oranges = 0\n",
    "        ROWS, COLS = len(grid), len(grid[0])\n",
    "        for r in range(ROWS):\n",
    "            for c in range(COLS):\n",
    "                if grid[r][c] == 2:\n",
    "                    queue.append((r, c))\n",
    "                elif grid[r][c] == 1:\n",
    "                    fresh_oranges += 1\n",
    "        \n",
    "        # Mark the round / level, i.e. the ticker of timestamp\n",
    "        queue.append((-1, -1))\n",
    "        \n",
    "        #Step 2: Start the rotting process via BFS\n",
    "        minutes_elapsed = -1\n",
    "        directions = [(-1, 0), (0, 1), (1, 0), (0, -1)]\n",
    "        while queue:\n",
    "            row, col = queue.popleft()\n",
    "            if row == -1:\n",
    "                #We finish one round of processing\n",
    "                minutes_elapsed += 1\n",
    "                if queue: #to avoid endless loop\n",
    "                    queue.append((-1, -1))\n",
    "            else:\n",
    "                # this is a rotten orange\n",
    "                # then it would contaminate its neighbors\n",
    "                for d in directions:\n",
    "                    neighbor_row, neighbor_col = row + d[0], col + d[1]\n",
    "                    if ROWS > neighbor_row >= 0 and COLS > neighbor_col >= 0:\n",
    "                        if grid[neighbor_row][neighbor_col] == 1:\n",
    "                            #this orange would be contaminated\n",
    "                            grid[neighbor_row][neighbor_col] = 2\n",
    "                            fresh_oranges -= 1\n",
    "                            # this orange would then contaminate others\n",
    "                            queue.append((neighbor_row, neighbor_col))\n",
    "        # return elapsed minutes if no fresh orange left\n",
    "        return minutes_elapsed if fresh_oranges == 0 else -1\n",
    "        \n",
    "        \n",
    "test = Solution()\n",
    "print(test.orangesRotting([[2,1,1],[1,1,0],[0,1,1]]))"
   ]
  },
  {
   "cell_type": "code",
   "execution_count": 6,
   "metadata": {},
   "outputs": [
    {
     "name": "stdout",
     "output_type": "stream",
     "text": [
      "4\n"
     ]
    }
   ],
   "source": []
  },
  {
   "cell_type": "code",
   "execution_count": null,
   "metadata": {},
   "outputs": [],
   "source": []
  }
 ],
 "metadata": {
  "kernelspec": {
   "display_name": "Python 3",
   "language": "python",
   "name": "python3"
  },
  "language_info": {
   "codemirror_mode": {
    "name": "ipython",
    "version": 3
   },
   "file_extension": ".py",
   "mimetype": "text/x-python",
   "name": "python",
   "nbconvert_exporter": "python",
   "pygments_lexer": "ipython3",
   "version": "3.7.4"
  }
 },
 "nbformat": 4,
 "nbformat_minor": 2
}
