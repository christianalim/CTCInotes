{
 "cells": [
  {
   "cell_type": "markdown",
   "metadata": {},
   "source": [
    "# Invert a Binary Tree\n",
    "The classic 'psh you can't get into Google because you can't invert a binary tree problem', well I say fuck you I can! And this is how.\n",
    "\n",
    "## Problem\n",
    "Invert a binary tree.\n",
    "\n",
    "Example:\n",
    "\n",
    "Input:\n",
    "\n",
    "     4\n",
    "   /   \\\n",
    "  2     7\n",
    " / \\   / \\\n",
    "1   3 6   9\n",
    "Output:\n",
    "\n",
    "     4\n",
    "   /   \\\n",
    "  7     2\n",
    " / \\   / \\\n",
    "9   6 3   1\n",
    "\n",
    "## Thought process:\n",
    "So right off I think the easiest way is a recursive solution, because trees are generally recursive structures. From looking at the examples, it seems like 'inversion' simply means swapping the left and right children. So I'm thinking that's really easy in Python. But how do we do the recursive part? Base case would be if no children then you're done. If there are children do a swap for each. So I'll create a swap helper method and then bim bam boom you're good. Lets give it a try.\n",
    "\n",
    "Yup, it works.\n",
    "\n",
    "### Space/Time Complexity\n",
    "Hmm, recursive functions are always tricky, but I think this one isn't so bad? If we're doing this simple operation I think it does it for the height of the tree. But we also touch each node in the tree, so its gotta be O(n) time. "
   ]
  },
  {
   "cell_type": "code",
   "execution_count": 15,
   "metadata": {},
   "outputs": [
    {
     "name": "stdout",
     "output_type": "stream",
     "text": [
      "1 2 3\n",
      "1 3 2\n"
     ]
    }
   ],
   "source": [
    "class TreeNode:\n",
    "    def __init__(self, val=0, left=None, right=None):\n",
    "        self.val = val\n",
    "        self.left = left\n",
    "        self.right = right\n",
    "    \n",
    "def invertBinary(root):\n",
    "    if root is None:\n",
    "        return\n",
    "    if root.left or root.right:\n",
    "        root.left, root.right = root.right, root.left\n",
    "        invertBinary(root.left)\n",
    "        invertBinary(root.right)\n",
    "    return root\n",
    "    \n",
    "nB = TreeNode(2)\n",
    "nC = TreeNode(3)\n",
    "nA = TreeNode(1, nB, nC)\n",
    "print(nA.val, nA.left.val, nA.right.val)\n",
    "invertBinary(nA)\n",
    "print(nA.val, nA.left.val, nA.right.val)\n"
   ]
  },
  {
   "cell_type": "code",
   "execution_count": null,
   "metadata": {},
   "outputs": [],
   "source": []
  }
 ],
 "metadata": {
  "kernelspec": {
   "display_name": "Python 3",
   "language": "python",
   "name": "python3"
  },
  "language_info": {
   "codemirror_mode": {
    "name": "ipython",
    "version": 3
   },
   "file_extension": ".py",
   "mimetype": "text/x-python",
   "name": "python",
   "nbconvert_exporter": "python",
   "pygments_lexer": "ipython3",
   "version": "3.7.4"
  }
 },
 "nbformat": 4,
 "nbformat_minor": 2
}
