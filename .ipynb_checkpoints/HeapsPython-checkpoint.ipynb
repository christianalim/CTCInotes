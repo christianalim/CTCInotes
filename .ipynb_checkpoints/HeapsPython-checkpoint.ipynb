{
 "cells": [
  {
   "cell_type": "markdown",
   "metadata": {},
   "source": [
    "# Min Heap in Python\n",
    "A Min-Heap is a complete binary tree where the value in each internal node is smaller than or equal to the values in the children of that node.\n",
    "\n",
    "Mapping the elements of a heap into an array is simple: If a node is stored in index k, then the left child is stored at index 2k+1, and its right child at index 2k + 2.\n",
    "\n",
    "Example of Min Heap:\n",
    "        5\n",
    "      /   \\\n",
    "    10     15\n",
    "    /\n",
    "  30\n",
    "\n",
    "### How is a Min Heap represented?\n",
    "A Min Heap is a complete binary tree. It's typically represented as an array. The root is at Arr[0]. For any ith node, Arr[i]:\n",
    "* Arr[(i - 1)/2] : returns its parent node.\n",
    "* Arr[(2 * i) + 1] : returns its left child node.\n",
    "* Arr[(2 * i) + 2] : returns its right child node.\n",
    "\n",
    "### Operations on Min Heap:\n",
    "1. getMin(): Returns the root element of Min Heap in constant time.\n",
    "2. extractMin(): Removes the minimum element from minHeap. Because the minHeap has to maintain the heap structure, the time compleixty is O(log n).\n",
    "3. insert(): Inserting a new key takes O(log n) time because we add a new key at the end of the tree then it traverses up to fix the violated heap property.\n",
    "\n",
    "## Implementation:"
   ]
  },
  {
   "cell_type": "code",
   "execution_count": null,
   "metadata": {},
   "outputs": [],
   "source": [
    "import sys\n",
    "\n",
    "class MinHeap:\n",
    "    def __init__(self, maxsize):\n",
    "        self.maxsize = maxsize\n",
    "        self.size = 0\n",
    "        self.Heap = [0] * (self.maxsize + 1)\n",
    "        self.Heap[0] = -1 * sys.maxsize\n",
    "        self.FRONT = 1\n"
   ]
  }
 ],
 "metadata": {
  "kernelspec": {
   "display_name": "Python 3",
   "language": "python",
   "name": "python3"
  },
  "language_info": {
   "codemirror_mode": {
    "name": "ipython",
    "version": 3
   },
   "file_extension": ".py",
   "mimetype": "text/x-python",
   "name": "python",
   "nbconvert_exporter": "python",
   "pygments_lexer": "ipython3",
   "version": "3.7.4"
  }
 },
 "nbformat": 4,
 "nbformat_minor": 2
}
