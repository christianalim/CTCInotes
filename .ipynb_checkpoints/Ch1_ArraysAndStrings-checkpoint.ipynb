{
 "cells": [
  {
   "cell_type": "markdown",
   "metadata": {},
   "source": [
    "### Hash Tables\n",
    "A hash table is a data structure that maps keys to values for highly efficient lookup. There are a number of ways of implementing this. \n",
    "\n",
    "In this simple implementation, we use an array of linked lists and a hash code function. To inert a key (which might be a string or essentially any other data type) and value, we do the following:\n",
    "\n",
    "    1. Compute the key's hash code, which will usually be an int or long. Note that two different keys could have the        same hash code, as there may be an infinite number of keys and finite number of ints.\n",
    "    \n",
    "    2. Then map the hash code to an index in the array. This could be done with something like \n",
    "    hash(key) % array_length. Two different hash codes could map to the same index.\n",
    "    \n",
    "    3. At this index, there is a linked list of keys and values. Store the key and value in this index. We must use \n",
    "    a linked list because of collisions: You could have two different keys with the same hash code, or two different\n",
    "    hash codes that map to the same index. \n",
    "    \n",
    "In order to retrieve the value pair by its key, you repeat this process. Compute the hash code from the key, and then compute the index from the hash code. Then, search through the linked list for the value with this key. \n",
    "\n",
    "If the number of collisions is high, the worst case runtime is O(N), where N is the number of keys. \n",
    "But we generally assume a good implementation keeps collisions to a minimum, so the lookup time is O(1).\n",
    "\n",
    "Another optional implementation is using a **balanced binary search tree**. This gives us a lookup time of O(log N). The advantage of this is that we potentially use less space, since we no longer allocate a large array."
   ]
  },
  {
   "cell_type": "markdown",
   "metadata": {},
   "source": [
    "\n",
    "### ArrayList and Resizable Arrays\n",
    "An ArrayList (Java) is an array that resizes itself as needed while still providing O(1) access.\n",
    "\n",
    "### StringBuilder\n",
    "Imagine concatenating a list of strings, what would the running time be? For simplicity assume strings are all the same length x and there are n strings.\n"
   ]
  },
  {
   "cell_type": "code",
   "execution_count": 4,
   "metadata": {},
   "outputs": [],
   "source": [
    "String joinWords(String[] words){\n",
    "    String sentence = \"\";\n",
    "    for(String w : words){\n",
    "        sentence = sentence + w;\n",
    "    }\n",
    "    return sentence;\n",
    "}"
   ]
  },
  {
   "cell_type": "markdown",
   "metadata": {},
   "source": [
    "On each concatenation, a new copy of the string is created, and the two strings are copied over character by character.\n",
    "\n",
    "The first iteration we copy x characters, then we copy 2x, 3rd iteration requires 3x and so on. The total time complexity is O(x + 2x + 3x + ... + nx). This reduces to O(xn^2). Remember: 1 + 2 + ... + n == n(n+1)/2 or O(n^2).\n",
    "\n",
    "**StringBuilder** creates a resizable array of all the strings, copying them back to a string only when necessary.\n",
    "\n",
    "\n",
    "### Hash Table Collision Resolution\n",
    "\n",
    "#### Chaining with Linked Lists\n",
    "The most common approach, the hash table's array maps to a linked list of items. We just add items to this linked list, as long as the number of collisions is fairly small, this will be quite efficient.\n",
    "\n",
    "The worst case lookup is O)n_ where n is the number of elements in the hash table. \n",
    "\n",
    "#### Chaining with Binary Search Trees\n",
    "Rather than storing collisions in a linked list, we can store collisions in a binary search tree. This will bring the worst case runtime to O(log n). In practice we would rarely take this approach unless we expected an extremely nonuniform distribution.\n",
    "\n",
    "#### Open Addressing with Linear Probing\n",
    "In this approach when a collision occurs, we just move on ot the next index in the array until we find an open space.\n",
    "\n",
    "The drawback of this is that the number of entries in the hash tables is limited by the sizae of the array.\n",
    "\n",
    "There is another issue here: Consider a hash table with an underlying array size 100 where indexes 20-30 are prefilled. What are the odds of the next insertion going ot be 30?? Its 10% because an item mapped to any index between 20 and 30 will wind up at 30. This is also called clustering."
   ]
  }
 ],
 "metadata": {
  "kernelspec": {
   "display_name": "Java",
   "language": "java",
   "name": "java"
  },
  "language_info": {
   "codemirror_mode": "java",
   "file_extension": ".jshell",
   "mimetype": "text/x-java-source",
   "name": "Java",
   "pygments_lexer": "java",
   "version": "13.0.1+9"
  }
 },
 "nbformat": 4,
 "nbformat_minor": 2
}
