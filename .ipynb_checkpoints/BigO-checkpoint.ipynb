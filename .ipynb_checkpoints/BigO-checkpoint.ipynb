{
 "cells": [
  {
   "cell_type": "markdown",
   "metadata": {},
   "source": [
    "# Space Complexity\n",
    "\n",
    "Space complexity involves the amount of memory required by an algorithm. It's a parallel concept to time complexity. If we need to create an array of size n, this will require O(n) space. If we need a two dimensional array of size n by n, this will require O(n^2) space.\n",
    "\n",
    "Stack space in recursive calls counts too. For example, code like this would take O(n) time and O(n) space."
   ]
  },
  {
   "cell_type": "code",
   "execution_count": 3,
   "metadata": {},
   "outputs": [
    {
     "name": "stdout",
     "output_type": "stream",
     "text": [
      "4\n",
      "3\n",
      "2\n",
      "1\n",
      "10\n"
     ]
    }
   ],
   "source": [
    "def sum(n):\n",
    "    if n <= 0:\n",
    "        return 0\n",
    "    print(n)\n",
    "    return n + sum(n - 1)\n",
    "\n",
    "print(sum(4))"
   ]
  },
  {
   "cell_type": "markdown",
   "metadata": {},
   "source": [
    "As you can see in the code above, each call adds a level to the call stack and takes up actual memory. \n",
    "But just because you have n calls doesn't necessarily mean you take up n space. Consider the function which adds adjacent elements between 0 and n:"
   ]
  },
  {
   "cell_type": "code",
   "execution_count": 6,
   "metadata": {},
   "outputs": [
    {
     "name": "stdout",
     "output_type": "stream",
     "text": [
      "called\n",
      "called\n",
      "called\n",
      "called\n",
      "called\n",
      "25\n"
     ]
    }
   ],
   "source": [
    "def pairSumSequence(n):\n",
    "    sum = 0\n",
    "    for i in range(n):\n",
    "        sum += pairSum(i, i+1)\n",
    "    return sum\n",
    "\n",
    "def pairSum(a, b):\n",
    "    print('called')\n",
    "    return a + b\n",
    "\n",
    "print(pairSumSequence(5))"
   ]
  },
  {
   "cell_type": "markdown",
   "metadata": {},
   "source": [
    "There will be roughly O(n) calls to pairSum. However those calls don't exist simultaneously on the call stack, so you only need O(1) space."
   ]
  },
  {
   "cell_type": "markdown",
   "metadata": {},
   "source": [
    "## Examples\n",
    "What is the runtime of the code below?"
   ]
  },
  {
   "cell_type": "code",
   "execution_count": 9,
   "metadata": {},
   "outputs": [
    {
     "name": "stdout",
     "output_type": "stream",
     "text": [
      "Sum: 15, Product: 120\n"
     ]
    }
   ],
   "source": [
    "def foo(arr):\n",
    "    sum = 0\n",
    "    product = 1\n",
    "    for i in arr:\n",
    "        sum += i\n",
    "    for i in arr:\n",
    "        product *= i\n",
    "    print('Sum: ' + str(sum) + ', Product: ' + str(product))\n",
    "foo([1,2,3,4,5])"
   ]
  },
  {
   "cell_type": "markdown",
   "metadata": {},
   "source": [
    "This will take O(n) time. Two separate loops which will both take O(n) time results in time complexity O(n).\n",
    "\n",
    "### Example 2:\n",
    "What is the runtime of the below code?"
   ]
  },
  {
   "cell_type": "code",
   "execution_count": 10,
   "metadata": {},
   "outputs": [
    {
     "name": "stdout",
     "output_type": "stream",
     "text": [
      "1,1\n",
      "1,2\n",
      "1,3\n",
      "1,4\n",
      "1,5\n",
      "2,1\n",
      "2,2\n",
      "2,3\n",
      "2,4\n",
      "2,5\n",
      "3,1\n",
      "3,2\n",
      "3,3\n",
      "3,4\n",
      "3,5\n",
      "4,1\n",
      "4,2\n",
      "4,3\n",
      "4,4\n",
      "4,5\n",
      "5,1\n",
      "5,2\n",
      "5,3\n",
      "5,4\n",
      "5,5\n"
     ]
    }
   ],
   "source": [
    "def printPairs(arr):\n",
    "    for i in arr:\n",
    "        for j in arr:\n",
    "            print(str(i) + \",\" + str(j))\n",
    "printPairs([1,2,3,4,5])"
   ]
  },
  {
   "cell_type": "markdown",
   "metadata": {},
   "source": [
    "This will take O(n^2) time. A for loop inside of another for loop over the same array results in each element in that array being called per each element. The above code will make 25 calls. Thus its O(n * n) or O(n^2).\n",
    "\n",
    "### Example 3:\n",
    "This is similar code to the example above, but now the inner loop starts at i+1."
   ]
  },
  {
   "cell_type": "code",
   "execution_count": 26,
   "metadata": {},
   "outputs": [
    {
     "name": "stdout",
     "output_type": "stream",
     "text": [
      "1,2\n",
      "1,3\n",
      "1,4\n",
      "1,5\n",
      "2,3\n",
      "2,4\n",
      "2,5\n",
      "3,4\n",
      "3,5\n",
      "4,5\n",
      "None\n"
     ]
    }
   ],
   "source": [
    "def printUnorderedPairs(arr):\n",
    "    for i in arr:\n",
    "        for j in range(i, len(arr)):\n",
    "            print(str(i) + ',' + str(arr[j]))\n",
    "print(printUnorderedPairs([1,2,3,4,5]))"
   ]
  },
  {
   "cell_type": "markdown",
   "metadata": {},
   "source": [
    "Looking closely, lets try counting the iterations. The first time through j runs for N-1 steps. The second time its N-2 steps, the 3rd time its N-3 steps and so on.\n",
    "Therefore, the number of steps total is:\n",
    "    (N-1) + (N-2) + (N-3) + ... + 2 + 1\n",
    "    = 1 + 2 + 3 + ... + N-1\n",
    "    = sum of 1 through N-1\n",
    "    \n",
    "The sum of 1 through N-1 is N(N-1)/2, so the runtime will be O(N^2).\n",
    "\n",
    "#### What it means\n",
    "Alternatively, we can figure out the runtime by thinking about what the code \"means\". It iterates through each pair of values for (i, j) where j is bigger than i.\n",
    "\n",
    "There are N^2 total pairs. Roughly half of those will have i < j and the remaining half will have i > j. This code goes through rougly N^2/2 pairs so it does O(N^2) work.\n",
    "\n",
    "(0,1) (0,2) (0,3) (0,4) (0,5)\n",
    "      (1,2) (1,3) (1,4) (1,5)\n",
    "            (2,3) (2,4) (2,5)\n",
    "                  (3,4) (3,5)\n",
    "                        (4,5)\n",
    "                        \n",
    "#### Average Work\n",
    "We know the outer loop runs N times. How much work does the inner loop do? This varies across iterations but we can think about the average iteration.\n",
    "\n",
    "What is the average value of 1, 2, 3, 4, 5, 6, 7, 8, 9, 10? The average value will be in the middle, so it will be roughly 5. (In reality... n(n+1)/2 = 55. 55/10 = 5.5, but close enough)\n",
    "\n",
    "What about 1, 2, 3,..., N? The average value is N/2.\n",
    "Therefore since the inner loop does N/2 work on average and its run N times, the total work is N^2/2 which is O(N^2).\n",
    "\n",
    "### Example 4\n",
    "This is similar to the above, but now we have two different arrays."
   ]
  },
  {
   "cell_type": "code",
   "execution_count": 33,
   "metadata": {},
   "outputs": [
    {
     "name": "stdout",
     "output_type": "stream",
     "text": [
      "1,2\n",
      "1,3\n",
      "1,4\n",
      "1,5\n",
      "1,6\n",
      "2,3\n",
      "2,4\n",
      "2,5\n",
      "2,6\n",
      "3,4\n",
      "3,5\n",
      "3,6\n",
      "4,5\n",
      "4,6\n",
      "5,6\n",
      "None\n"
     ]
    }
   ],
   "source": [
    "def printUnorderedPairs2(arrA, arrB):\n",
    "    for i in arrA:\n",
    "        for j in arrB:\n",
    "            if i < j:\n",
    "                print(str(i) + \",\" + str(j))\n",
    "                \n",
    "print(printUnorderedPairs2([1,2,3,4,5], [2,3,4,5,6]))"
   ]
  },
  {
   "cell_type": "markdown",
   "metadata": {},
   "source": [
    "We can break up this analysis. The if-statement within j's for loop is O(1) time since it's just a sequence of constant-time statements. \n",
    "For each element of arrA, the inner for loop goes through b iterations where b = len(arrB). If a = len(arrA) then the runtime is O(ab).\n",
    "It's not O(N^2) because there are two different inputs. Both matter.\n",
    "\n",
    "#### Example 5"
   ]
  },
  {
   "cell_type": "code",
   "execution_count": null,
   "metadata": {},
   "outputs": [],
   "source": [
    "def printUnorderedPairs3(arrA, arrB):\n",
    "    for i in arrA:\n",
    "        for j in arrB:\n",
    "            for k in range(10):\n",
    "                print(str(i), str)"
   ]
  }
 ],
 "metadata": {
  "kernelspec": {
   "display_name": "Python 3",
   "language": "python",
   "name": "python3"
  },
  "language_info": {
   "codemirror_mode": {
    "name": "ipython",
    "version": 3
   },
   "file_extension": ".py",
   "mimetype": "text/x-python",
   "name": "python",
   "nbconvert_exporter": "python",
   "pygments_lexer": "ipython3",
   "version": "3.7.4"
  }
 },
 "nbformat": 4,
 "nbformat_minor": 2
}
