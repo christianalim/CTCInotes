{
 "cells": [
  {
   "cell_type": "markdown",
   "metadata": {},
   "source": [
    "# Graphs\n",
    "\n",
    "A graph is a data structure for storing connected data. It consists of vertices and edges. A vertex represents the entity (ex: people) and an edge represents the relationship between entities (ex: people's friendships). \n",
    "\n",
    "## Directed Graph\n",
    "This type of graph has edges with a direction in them. They can have a fixed direction, with one vertex pointing to another, or be bi-directional with 2 vertices pointing to each other.\n",
    "\n",
    "## Weighted Graph\n",
    "A graph with edges that carry relative weight. This means that an edge can be weighted more or less than other edges.\n",
    "\n",
    "# Graph Representations\n",
    "## Adjacency Matrix\n",
    "An adjacency matrix is a **square matrix with dimensions equivalent to the number of vertices** in the graph.\n",
    "\n",
    "Typically, the elements of the matrix have values 0 or 1. A value of 1 shows adjacency between the verticies in the row and column and a value of 0 otherwise.\n",
    "\n",
    "An adjacency matrix is easier to implement and efficient to query. However, its less efficient in terms of space.\n",
    "\n",
    "## Adjacency List\n",
    "An adjacency list is just an array of lists. The size of the array is equivalent to the number of vertices in the graph.\n",
    "\n",
    "**The list at a specific index of the array represents the adjacent vertices of the vertex represented by that array index.**\n",
    "\n",
    "This representation is more difficult to create and less efficient to query, however it has better space efficiency.\n",
    "\n",
    "## Graph Implementations In Java\n",
    "Java doesn't have a default implementation of the graph data structure, however we can implement the graph using Java Collections."
   ]
  },
  {
   "cell_type": "code",
   "execution_count": null,
   "metadata": {},
   "outputs": [],
   "source": []
  }
 ],
 "metadata": {
  "kernelspec": {
   "display_name": "Java",
   "language": "java",
   "name": "java"
  },
  "language_info": {
   "codemirror_mode": "java",
   "file_extension": ".jshell",
   "mimetype": "text/x-java-source",
   "name": "Java",
   "pygments_lexer": "java",
   "version": "13.0.1+9"
  }
 },
 "nbformat": 4,
 "nbformat_minor": 2
}
