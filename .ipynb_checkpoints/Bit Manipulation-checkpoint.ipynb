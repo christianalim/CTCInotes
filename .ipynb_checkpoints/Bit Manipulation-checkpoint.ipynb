{
 "cells": [
  {
   "cell_type": "markdown",
   "metadata": {},
   "source": [
    "# Bit Manipulation\n",
    "\n",
    "Bit manipulation can be useful for solving some problems with better space complexity/time complexity, and bitwise operations are usually faster than other methods.\n",
    "\n",
    "Operations with bits are used in Data compression or Exlusive-Or Encryption (an algorithm to encrypt data) for example. In order to encode, decode, or compress files we have to extract the data at bit level. Bitwise operations are faster and closer to the system.\n",
    "\n",
    "We know that 1 byte is 8 bits, and any integer or character can be represented using bits.\n",
    "For characters, we use ASCII representation, which are in the form of integers which can again be repesented using bits.\n",
    "\n",
    "Note: Numbers in parentheses() can be considered base 2 numbers (binary).\n",
    "\n",
    "## Bitwise Operators:\n",
    "There are different bitwise operators used in bit manipulation. They are fast and can be used in optimizing time complexity.\n",
    "\n",
    "### NOT (~):\n",
    "Bitwise NOT is an unary operator that flips the bits of the number (i.e. if the ith bit is 0, it will change it to 1). It is the one's complement of a number. For example, N = 5 = (101) in base 2. ~N = ~5 = ~(101) => (010) => 2.\n",
    "\n",
    "### AND (&):\n",
    "Bitwise AND is a binary operator that operates on two equal-length bit patterns. If both bits in the compared position of the bit patterns are 1, the bit in the resulting bit pattern is 1, otherwise 0.\n",
    "   #### Example:\n",
    "   A = 5 = (101), B = 3 = (011), A&B = (101)&(011) = (001) = 1\n",
    "   \n",
    "### OR ( | ):\n",
    "Bitwise OR operator opraters on two equal-length bit patterns. If both bits in the compared position of the bit patterns are 0, the bit in the resulting pattern is 0, otherewise 1.\n",
    "   #### Example:\n",
    "   A = 5 = (101), B = 3 = (011)\n",
    "   A | B = (111) = 7\n",
    "\n",
    "### XOR ( ^ ):\n",
    "Bitwise XOR also takes two equal-length bit patterns. If both bits in the compared position of the bit patterns are 0 or 1, the bit in the resulting bit pattern is 0, otherwise 1.\n"
   ]
  }
 ],
 "metadata": {
  "kernelspec": {
   "display_name": "Java",
   "language": "java",
   "name": "java"
  },
  "language_info": {
   "codemirror_mode": "java",
   "file_extension": ".jshell",
   "mimetype": "text/x-java-source",
   "name": "Java",
   "pygments_lexer": "java",
   "version": "13.0.1+9"
  }
 },
 "nbformat": 4,
 "nbformat_minor": 2
}
